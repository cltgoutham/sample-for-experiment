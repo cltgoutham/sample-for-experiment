{
  "nbformat": 4,
  "nbformat_minor": 0,
  "metadata": {
    "colab": {
      "provenance": [],
      "authorship_tag": "ABX9TyOipoloDVnKGpNYPTQ23jFj",
      "include_colab_link": true
    },
    "kernelspec": {
      "name": "python3",
      "display_name": "Python 3"
    },
    "language_info": {
      "name": "python"
    }
  },
  "cells": [
    {
      "cell_type": "markdown",
      "metadata": {
        "id": "view-in-github",
        "colab_type": "text"
      },
      "source": [
        "<a href=\"https://colab.research.google.com/github/cltgoutham/sample-for-experiment/blob/main/Excel_basics.ipynb\" target=\"_parent\"><img src=\"https://colab.research.google.com/assets/colab-badge.svg\" alt=\"Open In Colab\"/></a>"
      ]
    },
    {
      "cell_type": "markdown",
      "source": [
        "\n",
        "\n",
        "*  ctrl g ==================to goto any cell\n",
        "*  shift+ arrow=============select cell\n",
        "*  ctrl+ arrow =============jump to last cell with value\n",
        "*  ctrl+ shift+ arrow ======select cell with values\n",
        "*  alt h i =================incert row/column\n",
        "*  alt h d =================delete \n",
        "*  ctrl z ==================undo\n",
        "*  alt h p =================percentage\n",
        "*  ctrl c ==================copy\n",
        "*  ctrl v ==================paste\n",
        "*  alt e s =================special paste\n",
        "*  alt w f =================freeze\n",
        "*  alt w vg ================remove grid lines\n",
        "*  alt h m =================merge cell\n",
        "*  alt a g g ===============group cells\n",
        "*  alt a u u ===============ungroup \n",
        "*  alt h h =================background color\n",
        "*  alt h fc ================text color\n",
        "\n",
        "\n",
        "\n",
        "\n"
      ],
      "metadata": {
        "id": "eU004zrUB-Xp"
      }
    },
    {
      "cell_type": "code",
      "source": [],
      "metadata": {
        "id": "Q_1SbVjvGzn7"
      },
      "execution_count": null,
      "outputs": []
    },
    {
      "cell_type": "markdown",
      "source": [
        "\n",
        "\n",
        "*   Any formula in excel start with \"=\" sign \n",
        "\n",
        "1.   If statement \n",
        "*   syntax====If(statement,[value if True],[value if False])\n",
        "\n",
        "*   if(c5>100,\"True\",\"False\")\n",
        "\n",
        "\n",
        "\n",
        "\n",
        "\n",
        "\n"
      ],
      "metadata": {
        "id": "3DWQIev9FwW3"
      }
    }
  ]
}